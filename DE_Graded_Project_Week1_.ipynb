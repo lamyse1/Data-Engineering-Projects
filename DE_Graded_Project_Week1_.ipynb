{
  "nbformat": 4,
  "nbformat_minor": 0,
  "metadata": {
    "colab": {
      "provenance": [],
      "authorship_tag": "ABX9TyOWFnu146QI7jNEroB2m7d/",
      "include_colab_link": true
    },
    "kernelspec": {
      "name": "python3",
      "display_name": "Python 3"
    },
    "language_info": {
      "name": "python"
    }
  },
  "cells": [
    {
      "cell_type": "markdown",
      "metadata": {
        "id": "view-in-github",
        "colab_type": "text"
      },
      "source": [
        "<a href=\"https://colab.research.google.com/github/lamyse1/Data-Engineering-Projects/blob/main/DE_Graded_Project_Week1_.ipynb\" target=\"_parent\"><img src=\"https://colab.research.google.com/assets/colab-badge.svg\" alt=\"Open In Colab\"/></a>"
      ]
    },
    {
      "cell_type": "markdown",
      "source": [
        "# **Working Towards The DE Project: My Dashboard**"
      ],
      "metadata": {
        "id": "F3jvhqjwyCa_"
      }
    },
    {
      "cell_type": "markdown",
      "source": [
        "# **1. Set Up the Sales Dataset:**"
      ],
      "metadata": {
        "id": "BOWVaHaYx8SN"
      }
    },
    {
      "cell_type": "code",
      "execution_count": 26,
      "metadata": {
        "colab": {
          "base_uri": "https://localhost:8080/"
        },
        "id": "YcmgzwTjIWgW",
        "outputId": "5a215595-2355-466f-ddd5-a0be7d4686da"
      },
      "outputs": [
        {
          "output_type": "stream",
          "name": "stdout",
          "text": [
            "       date  product ID  sales amount   store location \n",
            "0  1/1/2013           1             13                1\n",
            "1  1/2/2013           1             11                1\n",
            "2  1/3/2013           1             14                1\n",
            "3  1/4/2013           1             13                1\n",
            "4  1/5/2013           1             10                1\n"
          ]
        }
      ],
      "source": [
        "import pandas as pd\n",
        "\n",
        "csv_url = \"https://raw.githubusercontent.com/lamyse1/Data-Engineering-Projects/main/D.E.%20Graded%20Project.%20Store%20Sales%20Data.csv\"\n",
        "sales_data = pd.read_csv(csv_url)\n",
        "\n",
        "# Preview the first few rows\n",
        "print(sales_data.head())\n"
      ]
    },
    {
      "cell_type": "code",
      "source": [
        "# Check column names and first few rows\n",
        "print(\"Column Names:\", sales_data.columns)\n",
        "print(\"\\nFirst 5 Rows:\")\n",
        "print(sales_data.head())\n",
        "\n",
        "# Check for missing values\n",
        "print(\"\\nMissing Values Per Column:\")\n",
        "print(sales_data.isnull().sum())\n",
        "\n",
        "# Get summary statistics for numerical columns\n",
        "print(\"\\nBasic Statistics:\")\n",
        "print(sales_data.describe())\n",
        "\n",
        "# Check data types\n",
        "print(\"\\nData Types:\")\n",
        "print(sales_data.dtypes)\n"
      ],
      "metadata": {
        "colab": {
          "base_uri": "https://localhost:8080/"
        },
        "id": "mL-u72w_t_u9",
        "outputId": "e4c0b65e-f91a-411d-d2b1-7179cf6a53e9"
      },
      "execution_count": 27,
      "outputs": [
        {
          "output_type": "stream",
          "name": "stdout",
          "text": [
            "Column Names: Index(['date', 'product ID', 'sales amount ', 'store location '], dtype='object')\n",
            "\n",
            "First 5 Rows:\n",
            "       date  product ID  sales amount   store location \n",
            "0  1/1/2013           1             13                1\n",
            "1  1/2/2013           1             11                1\n",
            "2  1/3/2013           1             14                1\n",
            "3  1/4/2013           1             13                1\n",
            "4  1/5/2013           1             10                1\n",
            "\n",
            "Missing Values Per Column:\n",
            "date               0\n",
            "product ID         0\n",
            "sales amount       0\n",
            "store location     0\n",
            "dtype: int64\n",
            "\n",
            "Basic Statistics:\n",
            "          product ID  sales amount   store location \n",
            "count  913000.000000  913000.000000    913000.000000\n",
            "mean       25.500000      52.250287         5.500000\n",
            "std        14.430878      28.801144         2.872283\n",
            "min         1.000000       0.000000         1.000000\n",
            "25%        13.000000      30.000000         3.000000\n",
            "50%        25.500000      47.000000         5.500000\n",
            "75%        38.000000      70.000000         8.000000\n",
            "max        50.000000     231.000000        10.000000\n",
            "\n",
            "Data Types:\n",
            "date               object\n",
            "product ID          int64\n",
            "sales amount        int64\n",
            "store location      int64\n",
            "dtype: object\n"
          ]
        }
      ]
    },
    {
      "cell_type": "code",
      "source": [
        "# remove any extra spaces from column names\n",
        "sales_data.columns = sales_data.columns.str.strip()\n",
        "\n",
        "# Verify column names after cleaning\n",
        "print(\"Updated Column Names:\", sales_data.columns)\n"
      ],
      "metadata": {
        "colab": {
          "base_uri": "https://localhost:8080/"
        },
        "id": "jxC3Vwmfu5CV",
        "outputId": "d98f6af5-3a36-48ab-959e-d15a19d98810"
      },
      "execution_count": 28,
      "outputs": [
        {
          "output_type": "stream",
          "name": "stdout",
          "text": [
            "Updated Column Names: Index(['date', 'product ID', 'sales amount', 'store location'], dtype='object')\n"
          ]
        }
      ]
    },
    {
      "cell_type": "code",
      "source": [
        "# Define mapping for store numbers\n",
        "store_mapping = {\n",
        "    1: \"New York\",\n",
        "    2: \"Los Angeles\",\n",
        "    3: \"Chicago\",\n",
        "    4: \"Houston\",\n",
        "    5: \"Phoenix\",\n",
        "    6: \"Philadelphia\",\n",
        "    7: \"San Antonio\",\n",
        "    8: \"San Diego\",\n",
        "    9: \"Dallas\",\n",
        "    10: \"San Jose\"\n",
        "}\n",
        "\n",
        "# Apply mapping to store_location column\n",
        "sales_data[\"store location\"] = sales_data[\"store location\"].map(store_mapping)\n",
        "\n",
        "# Confirm mapping applied correctly\n",
        "print(\"\\nMapped Store Locations:\")\n",
        "print(sales_data[[\"store location\"]].drop_duplicates())  # Display unique locations to verify\n"
      ],
      "metadata": {
        "colab": {
          "base_uri": "https://localhost:8080/"
        },
        "id": "QXB1C7IUvG2M",
        "outputId": "08d635c0-b879-4b77-bc83-881293272f65"
      },
      "execution_count": 29,
      "outputs": [
        {
          "output_type": "stream",
          "name": "stdout",
          "text": [
            "\n",
            "Mapped Store Locations:\n",
            "      store location\n",
            "0           New York\n",
            "1826     Los Angeles\n",
            "3652         Chicago\n",
            "5478         Houston\n",
            "7304         Phoenix\n",
            "9130    Philadelphia\n",
            "10956    San Antonio\n",
            "12782      San Diego\n",
            "14608         Dallas\n",
            "16434       San Jose\n"
          ]
        }
      ]
    },
    {
      "cell_type": "markdown",
      "source": [
        "# **Perform Basic Sales Analysis (Grouping & Aggregations)**"
      ],
      "metadata": {
        "id": "yCksy_hCvqfV"
      }
    },
    {
      "cell_type": "code",
      "source": [
        "# 1. Calculate total sales across all locations\n",
        "total_sales = sales_data[\"sales amount\"].sum()\n",
        "print(f\"\\nTotal Sales (All Locations): {total_sales}\")"
      ],
      "metadata": {
        "colab": {
          "base_uri": "https://localhost:8080/"
        },
        "id": "9OgdCtOPvocl",
        "outputId": "d1b677c5-a6d5-4283-8dbf-4da35fbb814d"
      },
      "execution_count": 30,
      "outputs": [
        {
          "output_type": "stream",
          "name": "stdout",
          "text": [
            "\n",
            "Total Sales (All Locations): 47704512\n"
          ]
        }
      ]
    },
    {
      "cell_type": "code",
      "source": [
        "# 2. Sales by store location\n",
        "sales_by_location = sales_data.groupby(\"store location\")[\"sales amount\"].sum().reset_index()\n",
        "print(\"\\nTotal Sales by Store Location:\")\n",
        "print(sales_by_location)"
      ],
      "metadata": {
        "colab": {
          "base_uri": "https://localhost:8080/"
        },
        "id": "MIbTSwttv7X2",
        "outputId": "56b26e4f-42df-4da2-d49b-1348f433ffea"
      },
      "execution_count": 31,
      "outputs": [
        {
          "output_type": "stream",
          "name": "stdout",
          "text": [
            "\n",
            "Total Sales by Store Location:\n",
            "  store location  sales amount\n",
            "0        Chicago       5435144\n",
            "1         Dallas       5025976\n",
            "2        Houston       5012639\n",
            "3    Los Angeles       6120128\n",
            "4       New York       4315603\n",
            "5   Philadelphia       3627670\n",
            "6        Phoenix       3631016\n",
            "7    San Antonio       3320009\n",
            "8      San Diego       5856169\n",
            "9       San Jose       5360158\n"
          ]
        }
      ]
    },
    {
      "cell_type": "code",
      "source": [
        "# 3. Sales by product\n",
        "sales_by_product = sales_data.groupby(\"product ID\")[\"sales amount\"].sum().reset_index()\n",
        "print(\"\\nTotal Sales by Product:\")\n",
        "print(sales_by_product)"
      ],
      "metadata": {
        "colab": {
          "base_uri": "https://localhost:8080/"
        },
        "id": "1zWQeZjNwAYt",
        "outputId": "017ae76f-0e13-4a57-b9c8-0036bf3dd80d"
      },
      "execution_count": 32,
      "outputs": [
        {
          "output_type": "stream",
          "name": "stdout",
          "text": [
            "\n",
            "Total Sales by Product:\n",
            "    product ID  sales amount\n",
            "0            1        401384\n",
            "1            2       1069564\n",
            "2            3        669087\n",
            "3            4        401907\n",
            "4            5        335230\n",
            "5            6       1068281\n",
            "6            7       1068777\n",
            "7            8       1405108\n",
            "8            9        938379\n",
            "9           10       1337133\n",
            "10          11       1271925\n",
            "11          12       1271534\n",
            "12          13       1539621\n",
            "13          14       1071531\n",
            "14          15       1607442\n",
            "15          16        468480\n",
            "16          17        602486\n",
            "17          18       1538876\n",
            "18          19        736892\n",
            "19          20        867641\n",
            "20          21        736190\n",
            "21          22       1469971\n",
            "22          23        534979\n",
            "23          24       1205975\n",
            "24          25       1473334\n",
            "25          26        869981\n",
            "26          27        402628\n",
            "27          28       1604713\n",
            "28          29       1271240\n",
            "29          30        736554\n",
            "30          31       1070845\n",
            "31          32        803107\n",
            "32          33       1270183\n",
            "33          34        469935\n",
            "34          35       1201541\n",
            "35          36       1406548\n",
            "36          37        534258\n",
            "37          38       1470330\n",
            "38          39        801311\n",
            "39          40        534094\n",
            "40          41        401759\n",
            "41          42        669925\n",
            "42          43        936635\n",
            "43          44        536811\n",
            "44          45       1471467\n",
            "45          46       1070764\n",
            "46          47        401781\n",
            "47          48        937703\n",
            "48          49        535663\n",
            "49          50       1203009\n"
          ]
        }
      ]
    },
    {
      "cell_type": "code",
      "source": [
        "# 4. Find the best-selling store location\n",
        "best_selling_store = sales_by_location.loc[sales_by_location[\"sales amount\"].idxmax()]\n",
        "\n",
        "print(\"\\nBest-Selling Store Location:\")\n",
        "print(f\"{best_selling_store['store location']} with total sales of {best_selling_store['sales amount']}\")\n"
      ],
      "metadata": {
        "colab": {
          "base_uri": "https://localhost:8080/"
        },
        "id": "b2ateKGFwgbP",
        "outputId": "11d9e8e2-3f56-496d-c735-dd5f6b3a56fa"
      },
      "execution_count": 33,
      "outputs": [
        {
          "output_type": "stream",
          "name": "stdout",
          "text": [
            "\n",
            "Best-Selling Store Location:\n",
            "Los Angeles with total sales of 6120128\n"
          ]
        }
      ]
    },
    {
      "cell_type": "code",
      "source": [
        "# Group sales by product ID\n",
        "sales_by_product = sales_data.groupby(\"product ID\")[\"sales amount\"].sum().reset_index()\n",
        "\n",
        "# 5. Find the best-selling product\n",
        "best_selling_product = sales_by_product.loc[sales_by_product[\"sales amount\"].idxmax()]\n",
        "\n",
        "print(\"\\nBest-Selling Product:\")\n",
        "print(f\"Product {best_selling_product['product ID']} with total sales of {best_selling_product['sales amount']}\")\n"
      ],
      "metadata": {
        "colab": {
          "base_uri": "https://localhost:8080/"
        },
        "id": "Z1XWC6ivw0AE",
        "outputId": "44bda862-ea5d-4710-f855-046e23e0ba91"
      },
      "execution_count": 34,
      "outputs": [
        {
          "output_type": "stream",
          "name": "stdout",
          "text": [
            "\n",
            "Best-Selling Product:\n",
            "Product 15 with total sales of 1607442\n"
          ]
        }
      ]
    },
    {
      "cell_type": "code",
      "source": [
        "# 6. Summary statistics for sales amount\n",
        "print(\"\\nSales Amount Statistics:\")\n",
        "print(sales_data[\"sales amount\"].describe())"
      ],
      "metadata": {
        "colab": {
          "base_uri": "https://localhost:8080/"
        },
        "id": "oiw9n1KnwFye",
        "outputId": "5c471229-4252-48ce-deff-23579c10c1c7"
      },
      "execution_count": 35,
      "outputs": [
        {
          "output_type": "stream",
          "name": "stdout",
          "text": [
            "\n",
            "Sales Amount Statistics:\n",
            "count    913000.000000\n",
            "mean         52.250287\n",
            "std          28.801144\n",
            "min           0.000000\n",
            "25%          30.000000\n",
            "50%          47.000000\n",
            "75%          70.000000\n",
            "max         231.000000\n",
            "Name: sales amount, dtype: float64\n"
          ]
        }
      ]
    },
    {
      "cell_type": "markdown",
      "source": [
        "# **2. Create a Basic Visualization with Dash:**"
      ],
      "metadata": {
        "id": "FiNlB5xUxlXU"
      }
    },
    {
      "cell_type": "code",
      "source": [
        "!pip install dash\n",
        "!pip install jupyter-dash\n",
        "!pip install plotly\n"
      ],
      "metadata": {
        "colab": {
          "base_uri": "https://localhost:8080/"
        },
        "id": "Wmp6GjtBxl_M",
        "outputId": "b7d107fe-5f63-4e74-9aa5-a386aff582ca"
      },
      "execution_count": 36,
      "outputs": [
        {
          "output_type": "stream",
          "name": "stdout",
          "text": [
            "Requirement already satisfied: dash in /usr/local/lib/python3.11/dist-packages (2.18.2)\n",
            "Requirement already satisfied: Flask<3.1,>=1.0.4 in /usr/local/lib/python3.11/dist-packages (from dash) (3.0.3)\n",
            "Requirement already satisfied: Werkzeug<3.1 in /usr/local/lib/python3.11/dist-packages (from dash) (3.0.6)\n",
            "Requirement already satisfied: plotly>=5.0.0 in /usr/local/lib/python3.11/dist-packages (from dash) (5.24.1)\n",
            "Requirement already satisfied: dash-html-components==2.0.0 in /usr/local/lib/python3.11/dist-packages (from dash) (2.0.0)\n",
            "Requirement already satisfied: dash-core-components==2.0.0 in /usr/local/lib/python3.11/dist-packages (from dash) (2.0.0)\n",
            "Requirement already satisfied: dash-table==5.0.0 in /usr/local/lib/python3.11/dist-packages (from dash) (5.0.0)\n",
            "Requirement already satisfied: importlib-metadata in /usr/local/lib/python3.11/dist-packages (from dash) (8.6.1)\n",
            "Requirement already satisfied: typing-extensions>=4.1.1 in /usr/local/lib/python3.11/dist-packages (from dash) (4.12.2)\n",
            "Requirement already satisfied: requests in /usr/local/lib/python3.11/dist-packages (from dash) (2.32.3)\n",
            "Requirement already satisfied: retrying in /usr/local/lib/python3.11/dist-packages (from dash) (1.3.4)\n",
            "Requirement already satisfied: nest-asyncio in /usr/local/lib/python3.11/dist-packages (from dash) (1.6.0)\n",
            "Requirement already satisfied: setuptools in /usr/local/lib/python3.11/dist-packages (from dash) (75.1.0)\n",
            "Requirement already satisfied: Jinja2>=3.1.2 in /usr/local/lib/python3.11/dist-packages (from Flask<3.1,>=1.0.4->dash) (3.1.5)\n",
            "Requirement already satisfied: itsdangerous>=2.1.2 in /usr/local/lib/python3.11/dist-packages (from Flask<3.1,>=1.0.4->dash) (2.2.0)\n",
            "Requirement already satisfied: click>=8.1.3 in /usr/local/lib/python3.11/dist-packages (from Flask<3.1,>=1.0.4->dash) (8.1.8)\n",
            "Requirement already satisfied: blinker>=1.6.2 in /usr/local/lib/python3.11/dist-packages (from Flask<3.1,>=1.0.4->dash) (1.9.0)\n",
            "Requirement already satisfied: tenacity>=6.2.0 in /usr/local/lib/python3.11/dist-packages (from plotly>=5.0.0->dash) (9.0.0)\n",
            "Requirement already satisfied: packaging in /usr/local/lib/python3.11/dist-packages (from plotly>=5.0.0->dash) (24.2)\n",
            "Requirement already satisfied: MarkupSafe>=2.1.1 in /usr/local/lib/python3.11/dist-packages (from Werkzeug<3.1->dash) (3.0.2)\n",
            "Requirement already satisfied: zipp>=3.20 in /usr/local/lib/python3.11/dist-packages (from importlib-metadata->dash) (3.21.0)\n",
            "Requirement already satisfied: charset-normalizer<4,>=2 in /usr/local/lib/python3.11/dist-packages (from requests->dash) (3.4.1)\n",
            "Requirement already satisfied: idna<4,>=2.5 in /usr/local/lib/python3.11/dist-packages (from requests->dash) (3.10)\n",
            "Requirement already satisfied: urllib3<3,>=1.21.1 in /usr/local/lib/python3.11/dist-packages (from requests->dash) (2.3.0)\n",
            "Requirement already satisfied: certifi>=2017.4.17 in /usr/local/lib/python3.11/dist-packages (from requests->dash) (2024.12.14)\n",
            "Requirement already satisfied: six>=1.7.0 in /usr/local/lib/python3.11/dist-packages (from retrying->dash) (1.17.0)\n",
            "Requirement already satisfied: jupyter-dash in /usr/local/lib/python3.11/dist-packages (0.4.2)\n",
            "Requirement already satisfied: dash in /usr/local/lib/python3.11/dist-packages (from jupyter-dash) (2.18.2)\n",
            "Requirement already satisfied: requests in /usr/local/lib/python3.11/dist-packages (from jupyter-dash) (2.32.3)\n",
            "Requirement already satisfied: flask in /usr/local/lib/python3.11/dist-packages (from jupyter-dash) (3.0.3)\n",
            "Requirement already satisfied: retrying in /usr/local/lib/python3.11/dist-packages (from jupyter-dash) (1.3.4)\n",
            "Requirement already satisfied: ipython in /usr/local/lib/python3.11/dist-packages (from jupyter-dash) (7.34.0)\n",
            "Requirement already satisfied: ipykernel in /usr/local/lib/python3.11/dist-packages (from jupyter-dash) (5.5.6)\n",
            "Requirement already satisfied: ansi2html in /usr/local/lib/python3.11/dist-packages (from jupyter-dash) (1.9.2)\n",
            "Requirement already satisfied: nest-asyncio in /usr/local/lib/python3.11/dist-packages (from jupyter-dash) (1.6.0)\n",
            "Requirement already satisfied: Werkzeug<3.1 in /usr/local/lib/python3.11/dist-packages (from dash->jupyter-dash) (3.0.6)\n",
            "Requirement already satisfied: plotly>=5.0.0 in /usr/local/lib/python3.11/dist-packages (from dash->jupyter-dash) (5.24.1)\n",
            "Requirement already satisfied: dash-html-components==2.0.0 in /usr/local/lib/python3.11/dist-packages (from dash->jupyter-dash) (2.0.0)\n",
            "Requirement already satisfied: dash-core-components==2.0.0 in /usr/local/lib/python3.11/dist-packages (from dash->jupyter-dash) (2.0.0)\n",
            "Requirement already satisfied: dash-table==5.0.0 in /usr/local/lib/python3.11/dist-packages (from dash->jupyter-dash) (5.0.0)\n",
            "Requirement already satisfied: importlib-metadata in /usr/local/lib/python3.11/dist-packages (from dash->jupyter-dash) (8.6.1)\n",
            "Requirement already satisfied: typing-extensions>=4.1.1 in /usr/local/lib/python3.11/dist-packages (from dash->jupyter-dash) (4.12.2)\n",
            "Requirement already satisfied: setuptools in /usr/local/lib/python3.11/dist-packages (from dash->jupyter-dash) (75.1.0)\n",
            "Requirement already satisfied: Jinja2>=3.1.2 in /usr/local/lib/python3.11/dist-packages (from flask->jupyter-dash) (3.1.5)\n",
            "Requirement already satisfied: itsdangerous>=2.1.2 in /usr/local/lib/python3.11/dist-packages (from flask->jupyter-dash) (2.2.0)\n",
            "Requirement already satisfied: click>=8.1.3 in /usr/local/lib/python3.11/dist-packages (from flask->jupyter-dash) (8.1.8)\n",
            "Requirement already satisfied: blinker>=1.6.2 in /usr/local/lib/python3.11/dist-packages (from flask->jupyter-dash) (1.9.0)\n",
            "Requirement already satisfied: ipython-genutils in /usr/local/lib/python3.11/dist-packages (from ipykernel->jupyter-dash) (0.2.0)\n",
            "Requirement already satisfied: traitlets>=4.1.0 in /usr/local/lib/python3.11/dist-packages (from ipykernel->jupyter-dash) (5.7.1)\n",
            "Requirement already satisfied: jupyter-client in /usr/local/lib/python3.11/dist-packages (from ipykernel->jupyter-dash) (6.1.12)\n",
            "Requirement already satisfied: tornado>=4.2 in /usr/local/lib/python3.11/dist-packages (from ipykernel->jupyter-dash) (6.4.2)\n",
            "Requirement already satisfied: jedi>=0.16 in /usr/local/lib/python3.11/dist-packages (from ipython->jupyter-dash) (0.19.2)\n",
            "Requirement already satisfied: decorator in /usr/local/lib/python3.11/dist-packages (from ipython->jupyter-dash) (4.4.2)\n",
            "Requirement already satisfied: pickleshare in /usr/local/lib/python3.11/dist-packages (from ipython->jupyter-dash) (0.7.5)\n",
            "Requirement already satisfied: prompt-toolkit!=3.0.0,!=3.0.1,<3.1.0,>=2.0.0 in /usr/local/lib/python3.11/dist-packages (from ipython->jupyter-dash) (3.0.50)\n",
            "Requirement already satisfied: pygments in /usr/local/lib/python3.11/dist-packages (from ipython->jupyter-dash) (2.18.0)\n",
            "Requirement already satisfied: backcall in /usr/local/lib/python3.11/dist-packages (from ipython->jupyter-dash) (0.2.0)\n",
            "Requirement already satisfied: matplotlib-inline in /usr/local/lib/python3.11/dist-packages (from ipython->jupyter-dash) (0.1.7)\n",
            "Requirement already satisfied: pexpect>4.3 in /usr/local/lib/python3.11/dist-packages (from ipython->jupyter-dash) (4.9.0)\n",
            "Requirement already satisfied: charset-normalizer<4,>=2 in /usr/local/lib/python3.11/dist-packages (from requests->jupyter-dash) (3.4.1)\n",
            "Requirement already satisfied: idna<4,>=2.5 in /usr/local/lib/python3.11/dist-packages (from requests->jupyter-dash) (3.10)\n",
            "Requirement already satisfied: urllib3<3,>=1.21.1 in /usr/local/lib/python3.11/dist-packages (from requests->jupyter-dash) (2.3.0)\n",
            "Requirement already satisfied: certifi>=2017.4.17 in /usr/local/lib/python3.11/dist-packages (from requests->jupyter-dash) (2024.12.14)\n",
            "Requirement already satisfied: six>=1.7.0 in /usr/local/lib/python3.11/dist-packages (from retrying->jupyter-dash) (1.17.0)\n",
            "Requirement already satisfied: parso<0.9.0,>=0.8.4 in /usr/local/lib/python3.11/dist-packages (from jedi>=0.16->ipython->jupyter-dash) (0.8.4)\n",
            "Requirement already satisfied: MarkupSafe>=2.0 in /usr/local/lib/python3.11/dist-packages (from Jinja2>=3.1.2->flask->jupyter-dash) (3.0.2)\n",
            "Requirement already satisfied: ptyprocess>=0.5 in /usr/local/lib/python3.11/dist-packages (from pexpect>4.3->ipython->jupyter-dash) (0.7.0)\n",
            "Requirement already satisfied: tenacity>=6.2.0 in /usr/local/lib/python3.11/dist-packages (from plotly>=5.0.0->dash->jupyter-dash) (9.0.0)\n",
            "Requirement already satisfied: packaging in /usr/local/lib/python3.11/dist-packages (from plotly>=5.0.0->dash->jupyter-dash) (24.2)\n",
            "Requirement already satisfied: wcwidth in /usr/local/lib/python3.11/dist-packages (from prompt-toolkit!=3.0.0,!=3.0.1,<3.1.0,>=2.0.0->ipython->jupyter-dash) (0.2.13)\n",
            "Requirement already satisfied: zipp>=3.20 in /usr/local/lib/python3.11/dist-packages (from importlib-metadata->dash->jupyter-dash) (3.21.0)\n",
            "Requirement already satisfied: jupyter-core>=4.6.0 in /usr/local/lib/python3.11/dist-packages (from jupyter-client->ipykernel->jupyter-dash) (5.7.2)\n",
            "Requirement already satisfied: pyzmq>=13 in /usr/local/lib/python3.11/dist-packages (from jupyter-client->ipykernel->jupyter-dash) (24.0.1)\n",
            "Requirement already satisfied: python-dateutil>=2.1 in /usr/local/lib/python3.11/dist-packages (from jupyter-client->ipykernel->jupyter-dash) (2.8.2)\n",
            "Requirement already satisfied: platformdirs>=2.5 in /usr/local/lib/python3.11/dist-packages (from jupyter-core>=4.6.0->jupyter-client->ipykernel->jupyter-dash) (4.3.6)\n",
            "Requirement already satisfied: plotly in /usr/local/lib/python3.11/dist-packages (5.24.1)\n",
            "Requirement already satisfied: tenacity>=6.2.0 in /usr/local/lib/python3.11/dist-packages (from plotly) (9.0.0)\n",
            "Requirement already satisfied: packaging in /usr/local/lib/python3.11/dist-packages (from plotly) (24.2)\n"
          ]
        }
      ]
    },
    {
      "cell_type": "code",
      "source": [
        "import dash\n",
        "from dash import dcc, html\n",
        "import plotly.express as px\n",
        "from jupyter_dash import JupyterDash\n",
        "import pandas as pd\n",
        "from dash.dependencies import Input, Output"
      ],
      "metadata": {
        "id": "hp57xg8Lx5_c"
      },
      "execution_count": 46,
      "outputs": []
    },
    {
      "cell_type": "code",
      "source": [
        "# Aggregate sales data by store location\n",
        "sales_by_location = sales_data.groupby(\"store location\")[\"sales amount\"].sum().reset_index()\n"
      ],
      "metadata": {
        "id": "eIct2g0q15gL"
      },
      "execution_count": 47,
      "outputs": []
    },
    {
      "cell_type": "code",
      "source": [
        "# Create a bar chart for sales by store location ( following the example on the exercise requirements sheet)\n",
        "fig = px.bar(\n",
        "    sales_by_location,\n",
        "    x=\"store location\",\n",
        "    y=\"sales amount\",\n",
        "    title=\"Sales by Store Location\"\n",
        ")\n"
      ],
      "metadata": {
        "id": "g3Jg2b3W2EH3"
      },
      "execution_count": 48,
      "outputs": []
    },
    {
      "cell_type": "code",
      "source": [
        "\n",
        "# Initialize the Dash app\n",
        "app = dash.Dash(__name__)\n",
        "\n",
        "# Add \"All Locations\" option for store sales\n",
        "all_locations = pd.DataFrame({\"store location\": [\"All Locations\"], \"sales amount\": [sales_by_location[\"sales amount\"].sum()]})\n",
        "sales_by_location_with_all = pd.concat([all_locations, sales_by_location], ignore_index=True)\n",
        "\n",
        "#  Add \"All Products\" option for product sales\n",
        "all_products = pd.DataFrame({\"product ID\": [\"All Products\"], \"sales amount\": [sales_by_product[\"sales amount\"].sum()]})\n",
        "sales_by_product_with_all = pd.concat([all_products, sales_by_product], ignore_index=True)\n",
        "\n",
        "# Define the app layout with two separate sections\n",
        "app.layout = html.Div(children=[\n",
        "    html.H1(children=\"Sales Dashboard\"),\n",
        "\n",
        "    # Section 1: Store Location Sales\n",
        "    html.H3(children=\"Sales by Store Location\"),\n",
        "    dcc.Dropdown(\n",
        "        id=\"store-selector\",\n",
        "        options=[{\"label\": loc, \"value\": loc} for loc in sales_by_location_with_all[\"store location\"]],\n",
        "        value=\"All Locations\",\n",
        "        clearable=False\n",
        "    ),\n",
        "    dcc.Graph(id=\"sales-location-chart\"),\n",
        "\n",
        "    # Section 2: Product Sales\n",
        "    html.H3(children=\"Sales by Product\"),\n",
        "    dcc.Dropdown(\n",
        "        id=\"product-selector\",\n",
        "        options=[{\"label\": str(prod), \"value\": prod} for prod in sales_by_product_with_all[\"product ID\"]],\n",
        "        value=\"All Products\",\n",
        "        clearable=False\n",
        "    ),\n",
        "    dcc.Graph(id=\"sales-product-chart\")\n",
        "])\n",
        "\n",
        "#  Define Callback for Store Sales Chart\n",
        "@app.callback(\n",
        "    Output(\"sales-location-chart\", \"figure\"),\n",
        "    [Input(\"store-selector\", \"value\")]\n",
        ")\n",
        "def update_store_chart(selected_store):\n",
        "    df = sales_by_location_with_all if selected_store == \"All Locations\" else \\\n",
        "         sales_by_location[sales_by_location[\"store location\"] == selected_store]\n",
        "\n",
        "    fig = px.bar(\n",
        "        df,\n",
        "        x=\"store location\",\n",
        "        y=\"sales amount\",\n",
        "        title=f\"Sales for {selected_store}\"\n",
        "    )\n",
        "    return fig\n",
        "\n",
        "#  Define Callback for Product Sales Chart\n",
        "@app.callback(\n",
        "    Output(\"sales-product-chart\", \"figure\"),\n",
        "    [Input(\"product-selector\", \"value\")]\n",
        ")\n",
        "def update_product_chart(selected_product):\n",
        "    df = sales_by_product_with_all if selected_product == \"All Products\" else \\\n",
        "         sales_by_product[sales_by_product[\"product ID\"] == selected_product]\n",
        "\n",
        "    fig = px.bar(\n",
        "        df,\n",
        "        x=\"product ID\",\n",
        "        y=\"sales amount\",\n",
        "        title=f\"Sales for {selected_product}\"\n",
        "    )\n",
        "    return fig\n",
        "\n",
        "# Run the Dash server\n",
        "if __name__ == '__main__':\n",
        "    app.run_server(debug=True)\n"
      ],
      "metadata": {
        "colab": {
          "base_uri": "https://localhost:8080/",
          "height": 671
        },
        "id": "_ZdLIIS05n6w",
        "outputId": "b9a00d53-5379-45e0-8d44-92036ed6095a"
      },
      "execution_count": 50,
      "outputs": [
        {
          "output_type": "display_data",
          "data": {
            "text/plain": [
              "<IPython.core.display.Javascript object>"
            ],
            "application/javascript": [
              "(async (port, path, width, height, cache, element) => {\n",
              "    if (!google.colab.kernel.accessAllowed && !cache) {\n",
              "      return;\n",
              "    }\n",
              "    element.appendChild(document.createTextNode(''));\n",
              "    const url = await google.colab.kernel.proxyPort(port, {cache});\n",
              "    const iframe = document.createElement('iframe');\n",
              "    iframe.src = new URL(path, url).toString();\n",
              "    iframe.height = height;\n",
              "    iframe.width = width;\n",
              "    iframe.style.border = 0;\n",
              "    iframe.allow = [\n",
              "        'accelerometer',\n",
              "        'autoplay',\n",
              "        'camera',\n",
              "        'clipboard-read',\n",
              "        'clipboard-write',\n",
              "        'gyroscope',\n",
              "        'magnetometer',\n",
              "        'microphone',\n",
              "        'serial',\n",
              "        'usb',\n",
              "        'xr-spatial-tracking',\n",
              "    ].join('; ');\n",
              "    element.appendChild(iframe);\n",
              "  })(8050, \"/\", \"100%\", 650, false, window.element)"
            ]
          },
          "metadata": {}
        }
      ]
    }
  ]
}