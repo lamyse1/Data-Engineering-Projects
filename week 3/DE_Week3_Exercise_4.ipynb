{
  "nbformat": 4,
  "nbformat_minor": 0,
  "metadata": {
    "colab": {
      "provenance": [],
      "authorship_tag": "ABX9TyOKeUF8genVtRVKMiAuR028",
      "include_colab_link": true
    },
    "kernelspec": {
      "name": "python3",
      "display_name": "Python 3"
    },
    "language_info": {
      "name": "python"
    }
  },
  "cells": [
    {
      "cell_type": "markdown",
      "metadata": {
        "id": "view-in-github",
        "colab_type": "text"
      },
      "source": [
        "<a href=\"https://colab.research.google.com/github/lamyse1/Data-Engineering-Projects/blob/main/week%203/DE_Week3_Exercise_4.ipynb\" target=\"_parent\"><img src=\"https://colab.research.google.com/assets/colab-badge.svg\" alt=\"Open In Colab\"/></a>"
      ]
    },
    {
      "cell_type": "markdown",
      "source": [
        "# **Integrating Weather Data Into a Sales Dataset Using APIs and MongoDB**\n"
      ],
      "metadata": {
        "id": "mXO-fSSsVxhM"
      }
    },
    {
      "cell_type": "markdown",
      "source": [
        "# Step 1: Extract Sales Data from CSV"
      ],
      "metadata": {
        "id": "DIcXPJT3ViL1"
      }
    },
    {
      "cell_type": "code",
      "source": [
        "import pandas as pd\n",
        "\n",
        "# URL of the raw CSV file\n",
        "url = 'https://raw.githubusercontent.com/DrManalJalloul/Introduction-to-Data-Engineering/main/sales_data.csv'\n",
        "\n",
        "# Load the CSV data into a DataFrame\n",
        "sales_data = pd.read_csv(url)\n",
        "\n",
        "# Display the first few rows\n",
        "print(sales_data.head())\n"
      ],
      "metadata": {
        "colab": {
          "base_uri": "https://localhost:8080/"
        },
        "id": "Z0SewK4iUt-i",
        "outputId": "b22bf3e4-dc8d-4302-af8e-b9c8d7bc4d19"
      },
      "execution_count": 23,
      "outputs": [
        {
          "output_type": "stream",
          "name": "stdout",
          "text": [
            "         date product_id  sales_amount store_location\n",
            "0  2025-02-05       P001           150       New York\n",
            "1  2025-02-05       P002           300    Los Angeles\n",
            "2  2025-02-05       P003           450        Chicago\n",
            "3  2025-02-05       P004           600        Houston\n",
            "4  2025-02-05       P005           750        Seattle\n"
          ]
        }
      ]
    },
    {
      "cell_type": "markdown",
      "source": [
        "# Step 2: Fetch Weather Data from the API"
      ],
      "metadata": {
        "id": "phdUL8TbWLfT"
      }
    },
    {
      "cell_type": "code",
      "source": [
        "pip install requests\n"
      ],
      "metadata": {
        "colab": {
          "base_uri": "https://localhost:8080/"
        },
        "id": "_vxYOl5bXDBm",
        "outputId": "f9aba649-4d67-4323-9209-c053ce0c8e24"
      },
      "execution_count": 24,
      "outputs": [
        {
          "output_type": "stream",
          "name": "stdout",
          "text": [
            "Requirement already satisfied: requests in /usr/local/lib/python3.11/dist-packages (2.32.3)\n",
            "Requirement already satisfied: charset-normalizer<4,>=2 in /usr/local/lib/python3.11/dist-packages (from requests) (3.4.1)\n",
            "Requirement already satisfied: idna<4,>=2.5 in /usr/local/lib/python3.11/dist-packages (from requests) (3.10)\n",
            "Requirement already satisfied: urllib3<3,>=1.21.1 in /usr/local/lib/python3.11/dist-packages (from requests) (2.3.0)\n",
            "Requirement already satisfied: certifi>=2017.4.17 in /usr/local/lib/python3.11/dist-packages (from requests) (2025.1.31)\n"
          ]
        }
      ]
    },
    {
      "cell_type": "code",
      "source": [
        "\n",
        "# Function to fetch weather data for a given city and date\n",
        "def fetch_weather_data(city, date, api_key):\n",
        "    # Construct the API URL using the city and date\n",
        "    url = f\"https://weather.visualcrossing.com/VisualCrossingWebServices/rest/services/timeline/{city}/{date}/{date}?unitGroup=metric&elements=datetime%2Cname%2Ctemp%2Chumidity%2Cdescription&include=days&key={api_key}&contentType=json\"\n",
        "    api_key = 'UBVEGBYAY6DNEE5TB8XX5CLD8'\n",
        "    # Make the API request\n",
        "    response = requests.get(url)\n",
        "    data = response.json()\n",
        "\n",
        "    # Extract weather information\n",
        "    temp = data['days'][0]['temp']  # Temperature in Celsius\n",
        "    humidity = data['days'][0]['humidity']  # Humidity percentage\n",
        "    description = data['days'][0]['description']  # Weather description\n",
        "\n",
        "    return temp, humidity, description"
      ],
      "metadata": {
        "id": "7FgRldCAZnPi"
      },
      "execution_count": 25,
      "outputs": []
    },
    {
      "cell_type": "code",
      "source": [
        "# Example usage\n",
        "api_key = \"UBVEGBYAY6DNEE5TB8XX5CLD8\"\n",
        "city = \"New York\"\n",
        "date = \"2023-09-01\"\n",
        "\n",
        "temp, humidity, description = fetch_weather_data(city, date, api_key)\n",
        "print(f\"Temp: {temp}, Humidity: {humidity}, Weather: {description}\")"
      ],
      "metadata": {
        "colab": {
          "base_uri": "https://localhost:8080/"
        },
        "id": "TDpW_rDzae-r",
        "outputId": "b7fb0de7-db72-4d9b-8725-f63a6356f44d"
      },
      "execution_count": 26,
      "outputs": [
        {
          "output_type": "stream",
          "name": "stdout",
          "text": [
            "Temp: 20.0, Humidity: 49.7, Weather: Clear conditions throughout the day.\n"
          ]
        }
      ]
    },
    {
      "cell_type": "markdown",
      "source": [
        "# Step 3: Combine Weather Data with Sales Data"
      ],
      "metadata": {
        "id": "TfPU5dZgfVZJ"
      }
    },
    {
      "cell_type": "code",
      "source": [
        "# Iterate over each row in the sales_data DataFrame, call the weather function, and update the DataFrame\n",
        "for index, row in sales_data.iterrows():\n",
        "    temp, humidity, description = fetch_weather_data(row[\"store_location\"], row[\"date\"], api_key)\n",
        "\n",
        "    # Save retrieved weather data in the respective columns\n",
        "    sales_data.at[index, \"Temperature_C\"] = temp\n",
        "    sales_data.at[index, \"Humidity_%\"] = humidity\n",
        "    sales_data.at[index, \"Weather_Description\"] = description\n",
        "\n",
        "    # Display the weather details for each row\n",
        "    print(f\"{temp:.1f}°C, Humidity: {humidity}%, Weather: {description}\")\n",
        "\n"
      ],
      "metadata": {
        "colab": {
          "base_uri": "https://localhost:8080/"
        },
        "id": "BgGICFmabfVy",
        "outputId": "d4cecf99-508a-4018-f785-c93fde0f34d6"
      },
      "execution_count": 27,
      "outputs": [
        {
          "output_type": "stream",
          "name": "stdout",
          "text": [
            "-0.5°C, Humidity: 37.9%, Weather: Clearing in the afternoon.\n",
            "13.6°C, Humidity: 92.7%, Weather: Cloudy skies throughout the day with a chance of rain throughout the day.\n",
            "-1.8°C, Humidity: 65.7%, Weather: Cloudy skies throughout the day with late afternoon rain or snow.\n",
            "22.1°C, Humidity: 90.1%, Weather: Cloudy skies throughout the day with early morning rain.\n",
            "1.6°C, Humidity: 81.8%, Weather: Cloudy skies throughout the day with a chance of rain or snow throughout the day.\n",
            "-0.5°C, Humidity: 37.9%, Weather: Clearing in the afternoon.\n",
            "13.6°C, Humidity: 92.7%, Weather: Cloudy skies throughout the day with a chance of rain throughout the day.\n",
            "1.8°C, Humidity: 78.3%, Weather: Cloudy skies throughout the day with a chance of rain or snow throughout the day.\n",
            "14.5°C, Humidity: 92.9%, Weather: Cloudy skies throughout the day with rain.\n",
            "0.5°C, Humidity: 71.5%, Weather: Partly cloudy throughout the day with early morning snow or rain.\n",
            "23.1°C, Humidity: 83.7%, Weather: Partly cloudy throughout the day.\n",
            "2.1°C, Humidity: 84.4%, Weather: Cloudy skies throughout the day with rain or snow clearing later.\n",
            "1.8°C, Humidity: 78.3%, Weather: Cloudy skies throughout the day with a chance of rain or snow throughout the day.\n",
            "14.5°C, Humidity: 92.9%, Weather: Cloudy skies throughout the day with rain.\n",
            "3.1°C, Humidity: 49.3%, Weather: Partly cloudy throughout the day.\n",
            "14.3°C, Humidity: 86.2%, Weather: Partly cloudy throughout the day with rain clearing later.\n",
            "-3.2°C, Humidity: 40.8%, Weather: Partly cloudy throughout the day.\n",
            "23.5°C, Humidity: 79.8%, Weather: Partly cloudy throughout the day.\n",
            "1.6°C, Humidity: 71.4%, Weather: Partly cloudy throughout the day.\n",
            "3.1°C, Humidity: 49.3%, Weather: Partly cloudy throughout the day.\n",
            "14.3°C, Humidity: 86.2%, Weather: Partly cloudy throughout the day with rain clearing later.\n",
            "-0.6°C, Humidity: 47.6%, Weather: Becoming cloudy in the afternoon with late afternoon rain or snow.\n",
            "12.6°C, Humidity: 70.6%, Weather: Partly cloudy throughout the day.\n",
            "-0.5°C, Humidity: 66.0%, Weather: Cloudy skies throughout the day with afternoon rain or snow.\n",
            "24.0°C, Humidity: 78.6%, Weather: Partly cloudy throughout the day.\n",
            "2.8°C, Humidity: 87.7%, Weather: Cloudy skies throughout the day with rain or snow in the morning and afternoon.\n",
            "-0.6°C, Humidity: 47.6%, Weather: Becoming cloudy in the afternoon with late afternoon rain or snow.\n",
            "12.6°C, Humidity: 70.6%, Weather: Partly cloudy throughout the day.\n",
            "1.9°C, Humidity: 76.4%, Weather: Clearing in the afternoon with rain or snow clearing later.\n"
          ]
        }
      ]
    },
    {
      "cell_type": "code",
      "source": [
        "sales_data.head()"
      ],
      "metadata": {
        "colab": {
          "base_uri": "https://localhost:8080/",
          "height": 206
        },
        "id": "lk8AV7mbisbh",
        "outputId": "56be1099-2c8c-4b64-e2d9-ffb696e8e38a"
      },
      "execution_count": 28,
      "outputs": [
        {
          "output_type": "execute_result",
          "data": {
            "text/plain": [
              "         date product_id  sales_amount store_location  Temperature_C  \\\n",
              "0  2025-02-05       P001           150       New York           -0.5   \n",
              "1  2025-02-05       P002           300    Los Angeles           13.6   \n",
              "2  2025-02-05       P003           450        Chicago           -1.8   \n",
              "3  2025-02-05       P004           600        Houston           22.1   \n",
              "4  2025-02-05       P005           750        Seattle            1.6   \n",
              "\n",
              "   Humidity_%                                Weather_Description  \n",
              "0        37.9                         Clearing in the afternoon.  \n",
              "1        92.7  Cloudy skies throughout the day with a chance ...  \n",
              "2        65.7  Cloudy skies throughout the day with late afte...  \n",
              "3        90.1  Cloudy skies throughout the day with early mor...  \n",
              "4        81.8  Cloudy skies throughout the day with a chance ...  "
            ],
            "text/html": [
              "\n",
              "  <div id=\"df-b3f6ed6a-9956-4695-af4f-831042612a82\" class=\"colab-df-container\">\n",
              "    <div>\n",
              "<style scoped>\n",
              "    .dataframe tbody tr th:only-of-type {\n",
              "        vertical-align: middle;\n",
              "    }\n",
              "\n",
              "    .dataframe tbody tr th {\n",
              "        vertical-align: top;\n",
              "    }\n",
              "\n",
              "    .dataframe thead th {\n",
              "        text-align: right;\n",
              "    }\n",
              "</style>\n",
              "<table border=\"1\" class=\"dataframe\">\n",
              "  <thead>\n",
              "    <tr style=\"text-align: right;\">\n",
              "      <th></th>\n",
              "      <th>date</th>\n",
              "      <th>product_id</th>\n",
              "      <th>sales_amount</th>\n",
              "      <th>store_location</th>\n",
              "      <th>Temperature_C</th>\n",
              "      <th>Humidity_%</th>\n",
              "      <th>Weather_Description</th>\n",
              "    </tr>\n",
              "  </thead>\n",
              "  <tbody>\n",
              "    <tr>\n",
              "      <th>0</th>\n",
              "      <td>2025-02-05</td>\n",
              "      <td>P001</td>\n",
              "      <td>150</td>\n",
              "      <td>New York</td>\n",
              "      <td>-0.5</td>\n",
              "      <td>37.9</td>\n",
              "      <td>Clearing in the afternoon.</td>\n",
              "    </tr>\n",
              "    <tr>\n",
              "      <th>1</th>\n",
              "      <td>2025-02-05</td>\n",
              "      <td>P002</td>\n",
              "      <td>300</td>\n",
              "      <td>Los Angeles</td>\n",
              "      <td>13.6</td>\n",
              "      <td>92.7</td>\n",
              "      <td>Cloudy skies throughout the day with a chance ...</td>\n",
              "    </tr>\n",
              "    <tr>\n",
              "      <th>2</th>\n",
              "      <td>2025-02-05</td>\n",
              "      <td>P003</td>\n",
              "      <td>450</td>\n",
              "      <td>Chicago</td>\n",
              "      <td>-1.8</td>\n",
              "      <td>65.7</td>\n",
              "      <td>Cloudy skies throughout the day with late afte...</td>\n",
              "    </tr>\n",
              "    <tr>\n",
              "      <th>3</th>\n",
              "      <td>2025-02-05</td>\n",
              "      <td>P004</td>\n",
              "      <td>600</td>\n",
              "      <td>Houston</td>\n",
              "      <td>22.1</td>\n",
              "      <td>90.1</td>\n",
              "      <td>Cloudy skies throughout the day with early mor...</td>\n",
              "    </tr>\n",
              "    <tr>\n",
              "      <th>4</th>\n",
              "      <td>2025-02-05</td>\n",
              "      <td>P005</td>\n",
              "      <td>750</td>\n",
              "      <td>Seattle</td>\n",
              "      <td>1.6</td>\n",
              "      <td>81.8</td>\n",
              "      <td>Cloudy skies throughout the day with a chance ...</td>\n",
              "    </tr>\n",
              "  </tbody>\n",
              "</table>\n",
              "</div>\n",
              "    <div class=\"colab-df-buttons\">\n",
              "\n",
              "  <div class=\"colab-df-container\">\n",
              "    <button class=\"colab-df-convert\" onclick=\"convertToInteractive('df-b3f6ed6a-9956-4695-af4f-831042612a82')\"\n",
              "            title=\"Convert this dataframe to an interactive table.\"\n",
              "            style=\"display:none;\">\n",
              "\n",
              "  <svg xmlns=\"http://www.w3.org/2000/svg\" height=\"24px\" viewBox=\"0 -960 960 960\">\n",
              "    <path d=\"M120-120v-720h720v720H120Zm60-500h600v-160H180v160Zm220 220h160v-160H400v160Zm0 220h160v-160H400v160ZM180-400h160v-160H180v160Zm440 0h160v-160H620v160ZM180-180h160v-160H180v160Zm440 0h160v-160H620v160Z\"/>\n",
              "  </svg>\n",
              "    </button>\n",
              "\n",
              "  <style>\n",
              "    .colab-df-container {\n",
              "      display:flex;\n",
              "      gap: 12px;\n",
              "    }\n",
              "\n",
              "    .colab-df-convert {\n",
              "      background-color: #E8F0FE;\n",
              "      border: none;\n",
              "      border-radius: 50%;\n",
              "      cursor: pointer;\n",
              "      display: none;\n",
              "      fill: #1967D2;\n",
              "      height: 32px;\n",
              "      padding: 0 0 0 0;\n",
              "      width: 32px;\n",
              "    }\n",
              "\n",
              "    .colab-df-convert:hover {\n",
              "      background-color: #E2EBFA;\n",
              "      box-shadow: 0px 1px 2px rgba(60, 64, 67, 0.3), 0px 1px 3px 1px rgba(60, 64, 67, 0.15);\n",
              "      fill: #174EA6;\n",
              "    }\n",
              "\n",
              "    .colab-df-buttons div {\n",
              "      margin-bottom: 4px;\n",
              "    }\n",
              "\n",
              "    [theme=dark] .colab-df-convert {\n",
              "      background-color: #3B4455;\n",
              "      fill: #D2E3FC;\n",
              "    }\n",
              "\n",
              "    [theme=dark] .colab-df-convert:hover {\n",
              "      background-color: #434B5C;\n",
              "      box-shadow: 0px 1px 3px 1px rgba(0, 0, 0, 0.15);\n",
              "      filter: drop-shadow(0px 1px 2px rgba(0, 0, 0, 0.3));\n",
              "      fill: #FFFFFF;\n",
              "    }\n",
              "  </style>\n",
              "\n",
              "    <script>\n",
              "      const buttonEl =\n",
              "        document.querySelector('#df-b3f6ed6a-9956-4695-af4f-831042612a82 button.colab-df-convert');\n",
              "      buttonEl.style.display =\n",
              "        google.colab.kernel.accessAllowed ? 'block' : 'none';\n",
              "\n",
              "      async function convertToInteractive(key) {\n",
              "        const element = document.querySelector('#df-b3f6ed6a-9956-4695-af4f-831042612a82');\n",
              "        const dataTable =\n",
              "          await google.colab.kernel.invokeFunction('convertToInteractive',\n",
              "                                                    [key], {});\n",
              "        if (!dataTable) return;\n",
              "\n",
              "        const docLinkHtml = 'Like what you see? Visit the ' +\n",
              "          '<a target=\"_blank\" href=https://colab.research.google.com/notebooks/data_table.ipynb>data table notebook</a>'\n",
              "          + ' to learn more about interactive tables.';\n",
              "        element.innerHTML = '';\n",
              "        dataTable['output_type'] = 'display_data';\n",
              "        await google.colab.output.renderOutput(dataTable, element);\n",
              "        const docLink = document.createElement('div');\n",
              "        docLink.innerHTML = docLinkHtml;\n",
              "        element.appendChild(docLink);\n",
              "      }\n",
              "    </script>\n",
              "  </div>\n",
              "\n",
              "\n",
              "<div id=\"df-39a30f36-f4ba-4a8b-bfb8-aae39b7a8e28\">\n",
              "  <button class=\"colab-df-quickchart\" onclick=\"quickchart('df-39a30f36-f4ba-4a8b-bfb8-aae39b7a8e28')\"\n",
              "            title=\"Suggest charts\"\n",
              "            style=\"display:none;\">\n",
              "\n",
              "<svg xmlns=\"http://www.w3.org/2000/svg\" height=\"24px\"viewBox=\"0 0 24 24\"\n",
              "     width=\"24px\">\n",
              "    <g>\n",
              "        <path d=\"M19 3H5c-1.1 0-2 .9-2 2v14c0 1.1.9 2 2 2h14c1.1 0 2-.9 2-2V5c0-1.1-.9-2-2-2zM9 17H7v-7h2v7zm4 0h-2V7h2v10zm4 0h-2v-4h2v4z\"/>\n",
              "    </g>\n",
              "</svg>\n",
              "  </button>\n",
              "\n",
              "<style>\n",
              "  .colab-df-quickchart {\n",
              "      --bg-color: #E8F0FE;\n",
              "      --fill-color: #1967D2;\n",
              "      --hover-bg-color: #E2EBFA;\n",
              "      --hover-fill-color: #174EA6;\n",
              "      --disabled-fill-color: #AAA;\n",
              "      --disabled-bg-color: #DDD;\n",
              "  }\n",
              "\n",
              "  [theme=dark] .colab-df-quickchart {\n",
              "      --bg-color: #3B4455;\n",
              "      --fill-color: #D2E3FC;\n",
              "      --hover-bg-color: #434B5C;\n",
              "      --hover-fill-color: #FFFFFF;\n",
              "      --disabled-bg-color: #3B4455;\n",
              "      --disabled-fill-color: #666;\n",
              "  }\n",
              "\n",
              "  .colab-df-quickchart {\n",
              "    background-color: var(--bg-color);\n",
              "    border: none;\n",
              "    border-radius: 50%;\n",
              "    cursor: pointer;\n",
              "    display: none;\n",
              "    fill: var(--fill-color);\n",
              "    height: 32px;\n",
              "    padding: 0;\n",
              "    width: 32px;\n",
              "  }\n",
              "\n",
              "  .colab-df-quickchart:hover {\n",
              "    background-color: var(--hover-bg-color);\n",
              "    box-shadow: 0 1px 2px rgba(60, 64, 67, 0.3), 0 1px 3px 1px rgba(60, 64, 67, 0.15);\n",
              "    fill: var(--button-hover-fill-color);\n",
              "  }\n",
              "\n",
              "  .colab-df-quickchart-complete:disabled,\n",
              "  .colab-df-quickchart-complete:disabled:hover {\n",
              "    background-color: var(--disabled-bg-color);\n",
              "    fill: var(--disabled-fill-color);\n",
              "    box-shadow: none;\n",
              "  }\n",
              "\n",
              "  .colab-df-spinner {\n",
              "    border: 2px solid var(--fill-color);\n",
              "    border-color: transparent;\n",
              "    border-bottom-color: var(--fill-color);\n",
              "    animation:\n",
              "      spin 1s steps(1) infinite;\n",
              "  }\n",
              "\n",
              "  @keyframes spin {\n",
              "    0% {\n",
              "      border-color: transparent;\n",
              "      border-bottom-color: var(--fill-color);\n",
              "      border-left-color: var(--fill-color);\n",
              "    }\n",
              "    20% {\n",
              "      border-color: transparent;\n",
              "      border-left-color: var(--fill-color);\n",
              "      border-top-color: var(--fill-color);\n",
              "    }\n",
              "    30% {\n",
              "      border-color: transparent;\n",
              "      border-left-color: var(--fill-color);\n",
              "      border-top-color: var(--fill-color);\n",
              "      border-right-color: var(--fill-color);\n",
              "    }\n",
              "    40% {\n",
              "      border-color: transparent;\n",
              "      border-right-color: var(--fill-color);\n",
              "      border-top-color: var(--fill-color);\n",
              "    }\n",
              "    60% {\n",
              "      border-color: transparent;\n",
              "      border-right-color: var(--fill-color);\n",
              "    }\n",
              "    80% {\n",
              "      border-color: transparent;\n",
              "      border-right-color: var(--fill-color);\n",
              "      border-bottom-color: var(--fill-color);\n",
              "    }\n",
              "    90% {\n",
              "      border-color: transparent;\n",
              "      border-bottom-color: var(--fill-color);\n",
              "    }\n",
              "  }\n",
              "</style>\n",
              "\n",
              "  <script>\n",
              "    async function quickchart(key) {\n",
              "      const quickchartButtonEl =\n",
              "        document.querySelector('#' + key + ' button');\n",
              "      quickchartButtonEl.disabled = true;  // To prevent multiple clicks.\n",
              "      quickchartButtonEl.classList.add('colab-df-spinner');\n",
              "      try {\n",
              "        const charts = await google.colab.kernel.invokeFunction(\n",
              "            'suggestCharts', [key], {});\n",
              "      } catch (error) {\n",
              "        console.error('Error during call to suggestCharts:', error);\n",
              "      }\n",
              "      quickchartButtonEl.classList.remove('colab-df-spinner');\n",
              "      quickchartButtonEl.classList.add('colab-df-quickchart-complete');\n",
              "    }\n",
              "    (() => {\n",
              "      let quickchartButtonEl =\n",
              "        document.querySelector('#df-39a30f36-f4ba-4a8b-bfb8-aae39b7a8e28 button');\n",
              "      quickchartButtonEl.style.display =\n",
              "        google.colab.kernel.accessAllowed ? 'block' : 'none';\n",
              "    })();\n",
              "  </script>\n",
              "</div>\n",
              "\n",
              "    </div>\n",
              "  </div>\n"
            ],
            "application/vnd.google.colaboratory.intrinsic+json": {
              "type": "dataframe",
              "variable_name": "sales_data",
              "summary": "{\n  \"name\": \"sales_data\",\n  \"rows\": 29,\n  \"fields\": [\n    {\n      \"column\": \"date\",\n      \"properties\": {\n        \"dtype\": \"object\",\n        \"num_unique_values\": 5,\n        \"samples\": [\n          \"2025-02-06\",\n          \"2025-02-09\",\n          \"2025-02-07\"\n        ],\n        \"semantic_type\": \"\",\n        \"description\": \"\"\n      }\n    },\n    {\n      \"column\": \"product_id\",\n      \"properties\": {\n        \"dtype\": \"category\",\n        \"num_unique_values\": 5,\n        \"samples\": [\n          \"P002\",\n          \"P005\",\n          \"P003\"\n        ],\n        \"semantic_type\": \"\",\n        \"description\": \"\"\n      }\n    },\n    {\n      \"column\": \"sales_amount\",\n      \"properties\": {\n        \"dtype\": \"number\",\n        \"std\": 291,\n        \"min\": 150,\n        \"max\": 950,\n        \"num_unique_values\": 7,\n        \"samples\": [\n          150,\n          300,\n          900\n        ],\n        \"semantic_type\": \"\",\n        \"description\": \"\"\n      }\n    },\n    {\n      \"column\": \"store_location\",\n      \"properties\": {\n        \"dtype\": \"category\",\n        \"num_unique_values\": 5,\n        \"samples\": [\n          \"Los Angeles\",\n          \"Seattle\",\n          \"Chicago\"\n        ],\n        \"semantic_type\": \"\",\n        \"description\": \"\"\n      }\n    },\n    {\n      \"column\": \"Temperature_C\",\n      \"properties\": {\n        \"dtype\": \"number\",\n        \"std\": 8.72323069135405,\n        \"min\": -3.2,\n        \"max\": 24.0,\n        \"num_unique_values\": 19,\n        \"samples\": [\n          -0.5,\n          1.8,\n          14.3\n        ],\n        \"semantic_type\": \"\",\n        \"description\": \"\"\n      }\n    },\n    {\n      \"column\": \"Humidity_%\",\n      \"properties\": {\n        \"dtype\": \"number\",\n        \"std\": 17.82690790126535,\n        \"min\": 37.9,\n        \"max\": 92.9,\n        \"num_unique_values\": 21,\n        \"samples\": [\n          37.9,\n          66.0,\n          47.6\n        ],\n        \"semantic_type\": \"\",\n        \"description\": \"\"\n      }\n    },\n    {\n      \"column\": \"Weather_Description\",\n      \"properties\": {\n        \"dtype\": \"category\",\n        \"num_unique_values\": 14,\n        \"samples\": [\n          \"Partly cloudy throughout the day with rain clearing later.\",\n          \"Cloudy skies throughout the day with afternoon rain or snow.\",\n          \"Clearing in the afternoon.\"\n        ],\n        \"semantic_type\": \"\",\n        \"description\": \"\"\n      }\n    }\n  ]\n}"
            }
          },
          "metadata": {},
          "execution_count": 28
        }
      ]
    },
    {
      "cell_type": "markdown",
      "source": [
        "# Step 4: Load the Integrated Data into MongoDB\n"
      ],
      "metadata": {
        "id": "jUtCH-F-jWPT"
      }
    },
    {
      "cell_type": "code",
      "source": [
        "pip install pymongo"
      ],
      "metadata": {
        "colab": {
          "base_uri": "https://localhost:8080/"
        },
        "id": "zrKiAEMejc0A",
        "outputId": "b802a30c-9867-45e9-a756-ffbd90b12c8b"
      },
      "execution_count": 29,
      "outputs": [
        {
          "output_type": "stream",
          "name": "stdout",
          "text": [
            "Collecting pymongo\n",
            "  Downloading pymongo-4.11-cp311-cp311-manylinux_2_17_x86_64.manylinux2014_x86_64.whl.metadata (22 kB)\n",
            "Collecting dnspython<3.0.0,>=1.16.0 (from pymongo)\n",
            "  Downloading dnspython-2.7.0-py3-none-any.whl.metadata (5.8 kB)\n",
            "Downloading pymongo-4.11-cp311-cp311-manylinux_2_17_x86_64.manylinux2014_x86_64.whl (1.4 MB)\n",
            "\u001b[2K   \u001b[90m━━━━━━━━━━━━━━━━━━━━━━━━━━━━━━━━━━━━━━━━\u001b[0m \u001b[32m1.4/1.4 MB\u001b[0m \u001b[31m19.7 MB/s\u001b[0m eta \u001b[36m0:00:00\u001b[0m\n",
            "\u001b[?25hDownloading dnspython-2.7.0-py3-none-any.whl (313 kB)\n",
            "\u001b[2K   \u001b[90m━━━━━━━━━━━━━━━━━━━━━━━━━━━━━━━━━━━━━━━━\u001b[0m \u001b[32m313.6/313.6 kB\u001b[0m \u001b[31m16.8 MB/s\u001b[0m eta \u001b[36m0:00:00\u001b[0m\n",
            "\u001b[?25hInstalling collected packages: dnspython, pymongo\n",
            "Successfully installed dnspython-2.7.0 pymongo-4.11\n"
          ]
        }
      ]
    },
    {
      "cell_type": "code",
      "source": [
        "import pandas as pd\n",
        "\n",
        "# Load Sales Data\n",
        "url = \"https://raw.githubusercontent.com/DrManalJalloul/Introduction-to-Data-Engineering/main/sales_data.csv\"\n",
        "sales_data = pd.read_csv(url)\n",
        "\n",
        "# Select the collection inside your MongoDB database\n",
        "collection = db['SalesData']\n",
        "\n",
        "# Convert DataFrame to a list of dictionaries\n",
        "sales_data_dict = sales_data.to_dict(orient=\"records\")\n",
        "\n",
        "# Insert the data into MongoDB\n",
        "collection.insert_many(sales_data_dict)\n",
        "\n",
        "# Confirmation message\n",
        "print(\"✅ Data successfully inserted into MongoDB!\")\n",
        "\n",
        "# Retrieve and display a few records for verification\n",
        "for record in collection.find().limit(5):\n",
        "    print(record)\n"
      ],
      "metadata": {
        "colab": {
          "base_uri": "https://localhost:8080/"
        },
        "id": "i0Q_Q1wrkcSB",
        "outputId": "d233d4ec-ae91-4d3f-d324-f21ef6f1fbad"
      },
      "execution_count": 32,
      "outputs": [
        {
          "output_type": "stream",
          "name": "stdout",
          "text": [
            "✅ Data successfully inserted into MongoDB!\n",
            "{'_id': ObjectId('67a7d5085180f8dd4cc3e3f2'), 'date': '2025-02-05', 'product_id': 'P001', 'sales_amount': 150, 'store_location': 'New York'}\n",
            "{'_id': ObjectId('67a7d5085180f8dd4cc3e3f3'), 'date': '2025-02-05', 'product_id': 'P002', 'sales_amount': 300, 'store_location': 'Los Angeles'}\n",
            "{'_id': ObjectId('67a7d5085180f8dd4cc3e3f4'), 'date': '2025-02-05', 'product_id': 'P003', 'sales_amount': 450, 'store_location': 'Chicago'}\n",
            "{'_id': ObjectId('67a7d5085180f8dd4cc3e3f5'), 'date': '2025-02-05', 'product_id': 'P004', 'sales_amount': 600, 'store_location': 'Houston'}\n",
            "{'_id': ObjectId('67a7d5085180f8dd4cc3e3f6'), 'date': '2025-02-05', 'product_id': 'P005', 'sales_amount': 750, 'store_location': 'Seattle'}\n"
          ]
        }
      ]
    }
  ]
}